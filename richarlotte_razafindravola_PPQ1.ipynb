{
 "cells": [
  {
   "cell_type": "code",
   "execution_count": 1,
   "id": "6e724aed",
   "metadata": {},
   "outputs": [
    {
     "data": {
      "text/plain": [
       "'/home/valera/Desktop/PPQ1'"
      ]
     },
     "execution_count": 1,
     "metadata": {},
     "output_type": "execute_result"
    }
   ],
   "source": [
    "pwd"
   ]
  },
  {
   "cell_type": "code",
   "execution_count": null,
   "id": "639cd098",
   "metadata": {},
   "outputs": [],
   "source": [
    "pwd"
   ]
  },
  {
   "cell_type": "markdown",
   "id": "f7afdfde",
   "metadata": {},
   "source": [
    "**Exercise 1**\n",
    "\n",
    "1 - write a function, called **sum_prod**, that takes $n$ and $m$ as input and return return A and B given by $$A = \\sum_{i=m}^{n} i, \\quad B = \\prod_{i=m}^{n} i $$ The default value of m should be 1. Check your function for $n=10$."
   ]
  },
  {
   "cell_type": "code",
   "execution_count": 22,
   "id": "ec1b6da1",
   "metadata": {},
   "outputs": [
    {
     "name": "stdout",
     "output_type": "stream",
     "text": [
      "(55, 3628800)\n"
     ]
    }
   ],
   "source": [
    "def sum_prod(n,m=1):\n",
    "    A=0\n",
    "    B=1\n",
    "    for i in range(m,n+1,1):\n",
    "        A=A+i\n",
    "        B=B*i\n",
    "    return A,B\n",
    "print(sum_prod(10,m=1))"
   ]
  },
  {
   "cell_type": "markdown",
   "id": "db6e7a58",
   "metadata": {},
   "source": [
    "2- Write a Python function called **Facto** that calculates the factorial of a non-negative integer. The function accepts the number as an argument. Compute the factorial of 57."
   ]
  },
  {
   "cell_type": "code",
   "execution_count": 28,
   "id": "dc14e234",
   "metadata": {},
   "outputs": [
    {
     "name": "stdout",
     "output_type": "stream",
     "text": [
      "40526919504877216755680601905432322134980384796226602145184481280000000000000\n"
     ]
    }
   ],
   "source": [
    "def Facto(n):\n",
    "    f=1\n",
    "    for i in range(n,0,-1):\n",
    "        f=f*i\n",
    "    return f\n",
    "print(Facto(57))"
   ]
  },
  {
   "cell_type": "markdown",
   "id": "15523951",
   "metadata": {},
   "source": [
    "**Exercise 2**\n",
    "\n",
    "1- Using the list comprehensions, write a function, **ListComp** that takes a list $L$ of strings as input and returns \n",
    "- a list that consists of the strings of $L$ with their last characters removed\n",
    "- a list of the lengths of the strings of $L$\n",
    "- a list that consists of only those strings of $L$ that are at most 3 characters long"
   ]
  },
  {
   "cell_type": "code",
   "execution_count": 79,
   "id": "4061b6f0",
   "metadata": {},
   "outputs": [],
   "source": [
    "def ListComp(L):\n",
    "    l1=[L[i][1:] for i in range(len(L))]\n",
    "    l2=[len(L[i])for i in range(len(L))]\n",
    "    l3=[L[i] for i in range(len(L)) if len(L[i])<=3]\n",
    "    return l1,l2,l3"
   ]
  },
  {
   "cell_type": "markdown",
   "id": "a95f870f",
   "metadata": {},
   "source": [
    "2- Check your function using the names of your closest friends at AIMS."
   ]
  },
  {
   "cell_type": "code",
   "execution_count": 80,
   "id": "4edb4b17",
   "metadata": {},
   "outputs": [
    {
     "data": {
      "text/plain": [
       "(['ans', 'midtch', 'amiliarimanana'], [4, 7, 15], [])"
      ]
     },
     "execution_count": 80,
     "metadata": {},
     "output_type": "execute_result"
    }
   ],
   "source": [
    "ListComp([\"Hans\",\"Smidtch\",\"Ramiliarimanana\"])"
   ]
  },
  {
   "cell_type": "markdown",
   "id": "f09ebf03",
   "metadata": {},
   "source": [
    "**Exercise 3**\n",
    "\n",
    "A palindrome is a word that reads the same backwards as forwards. Write a program that asks the user to enter a word and determines whether the word is a palindrome or not\n",
    "\n",
    "1- using a for loop"
   ]
  },
  {
   "cell_type": "code",
   "execution_count": 27,
   "id": "26a211b3",
   "metadata": {},
   "outputs": [
    {
     "name": "stdout",
     "output_type": "stream",
     "text": [
      "stri=wow\n",
      "['w', 'o', 'w']\n",
      "['w', 'o', 'w']\n",
      "palindrom\n"
     ]
    }
   ],
   "source": [
    "stri=input(\"stri=\")\n",
    "l=list(stri)\n",
    "print(l)\n",
    "li=[]\n",
    "for i in range(len(l)-1,-1,-1):\n",
    "    li.append(l[i])\n",
    "print(li)\n",
    "if l==li:\n",
    "    print(\"palindrom\")\n",
    "else:\n",
    "    print(\"not palindrom\")"
   ]
  },
  {
   "cell_type": "markdown",
   "id": "64657c10",
   "metadata": {},
   "source": [
    "2- using the string slicing"
   ]
  },
  {
   "cell_type": "code",
   "execution_count": null,
   "id": "2411a446",
   "metadata": {},
   "outputs": [],
   "source": []
  },
  {
   "cell_type": "markdown",
   "id": "34e7b26f",
   "metadata": {},
   "source": [
    "**Exercise 4**\n",
    "\n",
    "1- Write a Python function named **characterCase** that accepts a string $S$ as input and returns the number of upper case letters and lower case letters as dictionary $D$. \n",
    "\n",
    "For example, if S = 'My name is Hove' then D = {'up': 2, 'lc': 10}"
   ]
  },
  {
   "cell_type": "code",
   "execution_count": null,
   "id": "c5fa3f0b",
   "metadata": {},
   "outputs": [],
   "source": []
  },
  {
   "cell_type": "markdown",
   "id": "c4fd4df7",
   "metadata": {},
   "source": [
    "2- Check for 'The quick Brow Fox and I'm proud of Mr McDonald'."
   ]
  },
  {
   "cell_type": "code",
   "execution_count": null,
   "id": "29a640bb",
   "metadata": {},
   "outputs": [],
   "source": []
  },
  {
   "cell_type": "markdown",
   "id": "6d63cd62",
   "metadata": {},
   "source": [
    "**Exercise 5**\n",
    "\n",
    "Write a function called **matches** that takes two strings as arguments and returns how many matches there are between the strings. A match is where the two strings have the same character at the same index. For instance, 'python' and 'path' match in the first, third, and fourth characters, so the function should return 3."
   ]
  },
  {
   "cell_type": "code",
   "execution_count": null,
   "id": "d8d41875",
   "metadata": {},
   "outputs": [],
   "source": []
  },
  {
   "cell_type": "markdown",
   "id": "6e2c48b2",
   "metadata": {},
   "source": [
    "**Exercise 6**\n",
    "\n",
    "Write a function **V** that takes a positive integer $n$ and a prime number $p$ and returns the greatest integer $r$ such that $p^r$ divides $n$. Check the function n=40 and p = 2."
   ]
  },
  {
   "cell_type": "code",
   "execution_count": null,
   "id": "2fd47b91",
   "metadata": {},
   "outputs": [],
   "source": []
  },
  {
   "cell_type": "markdown",
   "id": "4c79d9cb",
   "metadata": {},
   "source": [
    "**Exercise 7**\n",
    "\n",
    "1 - Write a Python function called <b>IsPrime</b> that takes a positive integer, $n$, as input and returns the boolean True if $n$ is a prime number and False, otherwise. \n",
    "\n",
    "Note : A prime number (or a prime) is a natural number greater than 1 and that has no positive divisors other than 1 and itself."
   ]
  },
  {
   "cell_type": "code",
   "execution_count": 38,
   "id": "4fc21f25",
   "metadata": {},
   "outputs": [],
   "source": [
    "def IsPrime(n):\n",
    "    if n==1:\n",
    "        return False\n",
    "    else:\n",
    "        for i in range(2,n):\n",
    "            if n%i==0:\n",
    "                return False\n",
    "    return True"
   ]
  },
  {
   "cell_type": "markdown",
   "id": "7c8e5e5c",
   "metadata": {},
   "source": [
    "2- Test the function <b>IsPrime</b> for $n= 12, 47$ and $97$"
   ]
  },
  {
   "cell_type": "code",
   "execution_count": 40,
   "id": "acf77922",
   "metadata": {},
   "outputs": [
    {
     "name": "stdout",
     "output_type": "stream",
     "text": [
      "False\n",
      "True\n",
      "True\n"
     ]
    }
   ],
   "source": [
    "print(IsPrime(12))\n",
    "print(IsPrime(47))\n",
    "print(IsPrime(97))"
   ]
  },
  {
   "cell_type": "markdown",
   "id": "c67c1df5",
   "metadata": {},
   "source": [
    "3 - Write a function called **Firstprimes** that is given a positive integer $n$ and returns the smallest prime $p$ such that $n\\leq p$. Let the default value of $n$ be 2."
   ]
  },
  {
   "cell_type": "code",
   "execution_count": 54,
   "id": "57422b1a",
   "metadata": {},
   "outputs": [],
   "source": [
    "def FirstPrimes(n=2):\n",
    "    p=n\n",
    "    while p>n:\n",
    "        if IsPrime(p):\n",
    "            return p"
   ]
  },
  {
   "cell_type": "markdown",
   "id": "2ab507a7",
   "metadata": {},
   "source": [
    "4- Check the function **Firstprimes** for $n=80$"
   ]
  },
  {
   "cell_type": "code",
   "execution_count": 55,
   "id": "d7f40fb8",
   "metadata": {},
   "outputs": [],
   "source": [
    "FirstPrime(n=80)"
   ]
  },
  {
   "cell_type": "markdown",
   "id": "f3d8d8be",
   "metadata": {},
   "source": [
    "**Exercise 8**\n",
    "\n",
    "Create a Module **PPQ1_Function.py** that contains all the functions on this notebook. Then, import the module to test the functions."
   ]
  },
  {
   "cell_type": "code",
   "execution_count": null,
   "id": "eb9b7921",
   "metadata": {},
   "outputs": [],
   "source": []
  }
 ],
 "metadata": {
  "kernelspec": {
   "display_name": "Python 3",
   "language": "python",
   "name": "python3"
  },
  "language_info": {
   "codemirror_mode": {
    "name": "ipython",
    "version": 3
   },
   "file_extension": ".py",
   "mimetype": "text/x-python",
   "name": "python",
   "nbconvert_exporter": "python",
   "pygments_lexer": "ipython3",
   "version": "3.9.2"
  }
 },
 "nbformat": 4,
 "nbformat_minor": 5
}
